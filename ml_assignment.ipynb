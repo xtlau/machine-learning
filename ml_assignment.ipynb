{
  "nbformat": 4,
  "nbformat_minor": 0,
  "metadata": {
    "colab": {
      "provenance": [],
      "toc_visible": true
    },
    "kernelspec": {
      "display_name": "Python 3",
      "language": "python",
      "name": "python3"
    },
    "language_info": {
      "codemirror_mode": {
        "name": "ipython",
        "version": 3
      },
      "file_extension": ".py",
      "mimetype": "text/x-python",
      "name": "python",
      "nbconvert_exporter": "python",
      "pygments_lexer": "ipython3",
      "version": "3.7.3"
    }
  },
  "cells": [
    {
      "cell_type": "code",
      "metadata": {
        "id": "B3NEe4BojNQs",
        "colab": {
          "base_uri": "https://localhost:8080/"
        },
        "outputId": "4084adee-cecf-463f-b237-8b7cafb1c611"
      },
      "source": [
        "!pip install wget"
      ],
      "execution_count": null,
      "outputs": [
        {
          "output_type": "stream",
          "name": "stdout",
          "text": [
            "Looking in indexes: https://pypi.org/simple, https://us-python.pkg.dev/colab-wheels/public/simple/\n",
            "Collecting wget\n",
            "  Downloading wget-3.2.zip (10 kB)\n",
            "  Preparing metadata (setup.py) ... \u001b[?25l\u001b[?25hdone\n",
            "Building wheels for collected packages: wget\n",
            "  Building wheel for wget (setup.py) ... \u001b[?25l\u001b[?25hdone\n",
            "  Created wheel for wget: filename=wget-3.2-py3-none-any.whl size=9674 sha256=53914b47dc8ca8f3bce5d44e96e211f39395cc9c8450a34e620cdcf044094a4a\n",
            "  Stored in directory: /root/.cache/pip/wheels/bd/a8/c3/3cf2c14a1837a4e04bd98631724e81f33f462d86a1d895fae0\n",
            "Successfully built wget\n",
            "Installing collected packages: wget\n",
            "Successfully installed wget-3.2\n"
          ]
        }
      ]
    },
    {
      "cell_type": "code",
      "metadata": {
        "id": "CrWhZK_sjJWd",
        "colab": {
          "base_uri": "https://localhost:8080/"
        },
        "outputId": "7c33eacf-416b-4c03-92ce-7c05d0d8aed5"
      },
      "source": [
        "import os\n",
        "import re\n",
        "from pathlib import Path\n",
        "from nltk.tokenize import RegexpTokenizer\n",
        "from collections import Counter\n",
        "import pandas as pd\n",
        "from sklearn.linear_model import LogisticRegression\n",
        "from sklearn.naive_bayes import GaussianNB, BernoulliNB, MultinomialNB\n",
        "from sklearn.model_selection import train_test_split\n",
        "from sklearn.metrics import accuracy_score, confusion_matrix\n",
        "from sklearn.exceptions import ConvergenceWarning\n",
        "import numpy as np\n",
        "from scipy import stats\n",
        "import matplotlib\n",
        "import matplotlib.pyplot as plt\n",
        "%matplotlib inline  \n",
        "import random\n",
        "import wget\n",
        "random.seed()\n",
        "import warnings\n",
        "warnings.filterwarnings(\"ignore\", category=FutureWarning)\n",
        "warnings.filterwarnings(\"ignore\", category=ConvergenceWarning)\n",
        "\n",
        "# Please add necessary imports here\n",
        "import nltk\n",
        "nltk.download('stopwords')\n",
        "from nltk.corpus import stopwords\n",
        "# !pip install whoosh\n",
        "# from whoosh.analysis import *"
      ],
      "execution_count": null,
      "outputs": [
        {
          "output_type": "stream",
          "name": "stderr",
          "text": [
            "[nltk_data] Downloading package stopwords to /root/nltk_data...\n",
            "[nltk_data]   Unzipping corpora/stopwords.zip.\n"
          ]
        }
      ]
    },
    {
      "cell_type": "code",
      "metadata": {
        "id": "ccMNbLzljJWl"
      },
      "source": [
        "filename = wget.download(\"https://github.com/MIE451-2021/course-datasets/raw/main/20_newsgroups.zip\", \"20_newsgroups.zip\")\n",
        "!unzip 20_newsgroups.zip\n",
        "DATA_DIR = \"20_newsgroups\""
      ],
      "execution_count": null,
      "outputs": []
    },
    {
      "cell_type": "markdown",
      "metadata": {
        "id": "ZAOneB4BjJWq"
      },
      "source": [
        "## Functions from lab"
      ]
    },
    {
      "cell_type": "markdown",
      "source": [
        "**PLEASE DO NOT CHANGE FUNCTION/CLASS NAMES**\n",
        "\n",
        "**PLEASE DO NOT CHANGE/OVERWRITE COMPLETED FUNCTIONS**"
      ],
      "metadata": {
        "collapsed": false,
        "pycharm": {
          "name": "#%% md\n"
        },
        "id": "wrs_aC-oofj_"
      }
    },
    {
      "cell_type": "code",
      "metadata": {
        "id": "isVIWKz5jJWr"
      },
      "source": [
        "def clean_file_text(text):\n",
        "    new_text = re.sub(\"Newsgroups:.*?\\n\", \"\", text)\n",
        "    new_text = re.sub(\"Xref:.*?\\n\", \"\", new_text)\n",
        "    new_text = re.sub(\"Path:.*?\\n\", \"\", new_text)\n",
        "    new_text = re.sub(\"Date:.*?\\n\", \"\", new_text)\n",
        "    new_text = re.sub(\"Followup-To:.*?\\n\", \"\", new_text)\n",
        "    return new_text"
      ],
      "execution_count": null,
      "outputs": []
    },
    {
      "cell_type": "code",
      "metadata": {
        "id": "0HHTRr8CjJWv"
      },
      "source": [
        "def corpus_count_words(file_list):\n",
        "    tokenizer = RegexpTokenizer(r'\\w+')\n",
        "    word_counter = Counter()\n",
        "    for file_path in file_list:\n",
        "        with open(file_path, 'r', encoding='utf-8', errors='ignore') as file:\n",
        "            file_data = file.read()\n",
        "            file_data = clean_file_text(file_data)\n",
        "            file_words = tokenizer.tokenize(file_data)\n",
        "            word_counter.update(file_words)\n",
        "    return word_counter"
      ],
      "execution_count": null,
      "outputs": []
    },
    {
      "cell_type": "code",
      "metadata": {
        "id": "_VBp_7RBjJW1"
      },
      "source": [
        "def get_topic_name(file_path):\n",
        "    return file_path.parent.name\n",
        "\n",
        "def get_target(topic_name):\n",
        "    topics = ['talk.politics.mideast', 'rec.autos', 'comp.sys.mac.hardware', 'alt.atheism', 'rec.sport.baseball', \n",
        "     'comp.os.ms-windows.misc', 'rec.sport.hockey', 'sci.crypt', 'sci.med', 'talk.politics.misc', \n",
        "     'rec.motorcycles', 'comp.windows.x', 'comp.graphics', 'comp.sys.ibm.pc.hardware', 'sci.electronics',\n",
        "     'talk.politics.guns', 'sci.space', 'soc.religion.christian', 'misc.forsale', 'talk.religion.misc']\n",
        "    return topics.index(topic_name)"
      ],
      "execution_count": null,
      "outputs": []
    },
    {
      "cell_type": "code",
      "metadata": {
        "id": "OH81rhWjjJW4"
      },
      "source": [
        "def plot_confusion_matrix(cm):\n",
        "    # plot the confusion matrix\n",
        "    plt.figure(figsize=(10,10))\n",
        "    plt.matshow(cm, fignum=1)\n",
        "    \n",
        "    # add labels for all targets\n",
        "    num_targets = cm.shape[0]\n",
        "    plt.xticks(list(range(num_targets+1)))\n",
        "    plt.yticks(list(range(num_targets+1)))"
      ],
      "execution_count": null,
      "outputs": []
    },
    {
      "cell_type": "markdown",
      "source": [
        "## Q1"
      ],
      "metadata": {
        "collapsed": false,
        "id": "6d0H1MoeofkB"
      }
    },
    {
      "cell_type": "code",
      "execution_count": null,
      "outputs": [],
      "source": [
        "class MLQ1():\n",
        "    def binary_baseline_data(self, file_list, num_words=1000):\n",
        "        # Calculate word count in corpus\n",
        "        news_cnt = corpus_count_words(file_list)\n",
        "\n",
        "        # Select the most common numWords\n",
        "        word_list = [word for (word, freq) in news_cnt.most_common(num_words)]\n",
        "\n",
        "        # Create a binary encoding of dataset based on the selected features (X)\n",
        "        tokenizer = RegexpTokenizer(r'\\w+')\n",
        "        df_rows = []\n",
        "        for file_path in file_list:\n",
        "            with open(file_path, 'r', encoding='utf-8', errors='ignore') as file:\n",
        "                file_data = file.read()\n",
        "                file_data = clean_file_text(file_data)\n",
        "                file_words = tokenizer.tokenize(file_data)\n",
        "                df_rows.append([1 if word in file_words else 0 for word in word_list])\n",
        "        X = pd.DataFrame(df_rows, index=[str(f) for f in file_list], columns = word_list)\n",
        "\n",
        "        # Create a dataframe of targets (y)\n",
        "        y = [get_target(get_topic_name(file_path)) for file_path in file_list]\n",
        "\n",
        "        return X, y\n",
        "\n",
        "    def binary_improved_data(self, file_list, num_words=1000):\n",
        "        # Put your code here for Q1b\n",
        "        # Make sure you update the variable features and targets below\n",
        "\n",
        "        # X = None\n",
        "        # y = None\n",
        "\n",
        "        # Calculate word count in corpus\n",
        "        tokenizer = RegexpTokenizer(r'\\w+')\n",
        "        # tokenizer = RegexTokenizer() | StemFilter()\n",
        "        news_cnt = Counter()\n",
        "        for file_path in file_list:\n",
        "          with open(file_path, 'r', encoding='utf-8', errors='ignore') as file:\n",
        "            file_data = file.read()\n",
        "            file_data = clean_file_text(file_data)\n",
        "            file_words = tokenizer.tokenize(file_data)\n",
        "            stop_words = set(stopwords.words(\"english\"))\n",
        "            file_words = [w.lower() for w in file_words]\n",
        "            filtered_file_words = [w for w in file_words if not w in stop_words]\n",
        "            news_cnt.update(filtered_file_words)\n",
        "\n",
        "        # Select the most common numWords\n",
        "        word_list = [word for (word, freq) in news_cnt.most_common(num_words)]\n",
        "\n",
        "        # Create a binary encoding of dataset based on the selected features (X)\n",
        "        tokenizer = RegexpTokenizer(r'\\w+')\n",
        "        df_rows = []\n",
        "        for file_path in file_list:\n",
        "            with open(file_path, 'r', encoding='utf-8', errors='ignore') as file:\n",
        "                file_data = file.read()\n",
        "                file_data = clean_file_text(file_data)\n",
        "                file_words = tokenizer.tokenize(file_data)\n",
        "                df_rows.append([1 if word in file_words else 0 for word in word_list])\n",
        "        X = pd.DataFrame(df_rows, index=[str(f) for f in file_list], columns = word_list)\n",
        "\n",
        "        # Create a dataframe of targets (y)\n",
        "        y = [get_target(get_topic_name(file_path)) for file_path in file_list]\n",
        "\n",
        "        # Calculate word count in corpus\n",
        "\n",
        "        # validate return types\n",
        "        assert isinstance(X, pd.DataFrame) and isinstance(y, list), \"return types\"\n",
        "\n",
        "        return X, y\n",
        "\n",
        "    def train_and_predict_baseline(self, file_list):\n",
        "        # get the baseline data\n",
        "        X, y = self.binary_baseline_data(file_list)\n",
        "\n",
        "        # split to train and test set\n",
        "        X_train, X_test, y_train, y_test = train_test_split(X, y, test_size=0.3, random_state=42)\n",
        "\n",
        "        # train a logistic regression classifier\n",
        "        clf = LogisticRegression(C=1.0).fit(X_train, y_train)\n",
        "\n",
        "        # predict on train and test set\n",
        "        y_train_predict = clf.predict(X_train)\n",
        "        y_test_predict = clf.predict(X_test)\n",
        "\n",
        "        # calculate train and test accuracy\n",
        "        train_accuracy = accuracy_score(y_train, y_train_predict)\n",
        "        test_accuracy = accuracy_score(y_test, y_test_predict)\n",
        "\n",
        "        return X, y, train_accuracy, test_accuracy\n",
        "\n",
        "    def train_and_predict_improved(self, file_list):\n",
        "        # get the baseline data\n",
        "        X, y = self.binary_improved_data(file_list)\n",
        "\n",
        "        # Write your code here for Q1c:\n",
        "        # You need to split the data and train a logistic regression classifier.\n",
        "        # Then, you need to calculate the variables train_accuracy and test_accuracy for the new classifier\n",
        "\n",
        "        # split to train and test set\n",
        "        X_train, X_test, y_train, y_test = train_test_split(X, y, test_size=0.3, random_state=42)\n",
        "\n",
        "        # train a logistic regression classifier\n",
        "        clf = LogisticRegression(C=1.0).fit(X_train, y_train)\n",
        "\n",
        "        # predict on train and test set\n",
        "        y_train_predict = clf.predict(X_train)\n",
        "        y_test_predict = clf.predict(X_test)\n",
        "\n",
        "        # calculate train and test accuracy\n",
        "        train_accuracy = accuracy_score(y_train, y_train_predict)\n",
        "        test_accuracy = accuracy_score(y_test, y_test_predict)\n",
        "\n",
        "        return X, y, train_accuracy, test_accuracy\n",
        "\n",
        "    @staticmethod\n",
        "    def random_mean_ci(X, y, num_tests):\n",
        "        # train_results is a list of train accuracy results for the differrent random splits of the dataset\n",
        "        train_results = []\n",
        "\n",
        "        # test_results is a list of test accuracy results for the differrent random splits of the dataset\n",
        "        test_results = []\n",
        "\n",
        "        # Write your code here for Q1d\n",
        "\n",
        "        random_state = list(np.random.randint(1,1000, num_tests))\n",
        "        for rs in random_state:\n",
        "          X_train, X_test, y_train, y_test = train_test_split(X, y, test_size=0.3, random_state=rs)\n",
        "          clf = LogisticRegression(C=1.0).fit(X_train, y_train)\n",
        "\n",
        "          y_train_predict = clf.predict(X_train)\n",
        "          y_test_predict = clf.predict(X_test)\n",
        "\n",
        "          train_accuracy = accuracy_score(y_train, y_train_predict)\n",
        "          test_accuracy = accuracy_score(y_test, y_test_predict)\n",
        "\n",
        "          train_results.append(train_accuracy)\n",
        "          test_results.append(test_accuracy)\n",
        "\n",
        "        # calculate the train mean and the 95% confidence interval for the list of results\n",
        "        train_mean = np.mean(train_results)\n",
        "        train_ci_low, train_ci_high = stats.t.interval(0.95, len(train_results)-1, loc=train_mean, scale=stats.sem(train_results))\n",
        "\n",
        "        # calculate the test mean and the 95% confidence interval for the list of results\n",
        "        test_mean = np.mean(test_results)\n",
        "        test_ci_low, test_ci_high = stats.t.interval(0.95, len(test_results)-1, loc=test_mean, scale=stats.sem(test_results))\n",
        "\n",
        "        # validate return types\n",
        "        assert isinstance(train_mean, float) and isinstance(train_ci_low, float) and isinstance(train_ci_high, float), \"return types\"\n",
        "        assert isinstance(test_mean, float) and isinstance(test_ci_low, float) and isinstance(test_ci_high, float), \"return types\"\n",
        "\n",
        "        return train_mean, train_ci_low, train_ci_high, test_mean, test_ci_low, test_ci_high\n",
        "\n",
        "    @staticmethod\n",
        "    def random_cm(X, y, num_tests):\n",
        "        # cm_list is a list of confusion matrices for the different random splits of the dataset\n",
        "        cm_list = []\n",
        "\n",
        "        # Write your code here for Q1f\n",
        "        random_state = list(np.random.randint(1,1000, num_tests))\n",
        "        for rs in random_state:\n",
        "          X_train, X_test, y_train, y_test = train_test_split(X, y, test_size=0.3, random_state=rs)\n",
        "          clf = LogisticRegression(C=1.0).fit(X_train, y_train)\n",
        "\n",
        "          # y_train_predict = clf.predict(X_train)\n",
        "          y_test_predict = clf.predict(X_test)\n",
        "          cm = confusion_matrix(y_test,y_test_predict)\n",
        "          cm_list.append(cm)\n",
        "          \n",
        "        # sum the confusion matrices and return the combined confusion matrix\n",
        "        combined_cm = np.array(cm_list).sum(axis=0)\n",
        "        \n",
        "\n",
        "        # validate return type\n",
        "        assert isinstance(combined_cm, np.ndarray), \"return type\"\n",
        "\n",
        "        return combined_cm\n",
        "\n"
      ],
      "metadata": {
        "pycharm": {
          "name": "#%%\n"
        },
        "id": "PjnD92nf26us"
      }
    },
    {
      "cell_type": "markdown",
      "source": [
        "Please do not change this global variable"
      ],
      "metadata": {
        "collapsed": false,
        "pycharm": {
          "name": "#%% md\n"
        },
        "id": "fkxNi2IWofkC"
      }
    },
    {
      "cell_type": "code",
      "metadata": {
        "id": "QwVZblX1jJW9"
      },
      "source": [
        "all_files = [pth for pth in Path(DATA_DIR).glob(\"**/*\") if pth.is_file() and not pth.name.startswith(\".\")]"
      ],
      "execution_count": null,
      "outputs": []
    },
    {
      "cell_type": "code",
      "metadata": {
        "id": "hV2I4MIDjJXF",
        "colab": {
          "base_uri": "https://localhost:8080/"
        },
        "outputId": "fdc093a5-12a8-4aa1-af7d-763ae800f505"
      },
      "source": [
        "q1 = MLQ1()\n",
        "X, y, train_accuracy, test_accuracy = q1.train_and_predict_baseline(all_files)\n",
        "# report results\n",
        "print(\"Train accuracy: {}\".format(train_accuracy))\n",
        "print(\"Test accuracy: {}\".format(test_accuracy))"
      ],
      "execution_count": null,
      "outputs": [
        {
          "output_type": "stream",
          "name": "stdout",
          "text": [
            "Train accuracy: 0.9432021147388726\n",
            "Test accuracy: 0.6865\n"
          ]
        }
      ]
    },
    {
      "cell_type": "markdown",
      "metadata": {
        "id": "dZSQINnXjJXJ"
      },
      "source": [
        "### Q1 (a)\n",
        "\n",
        "[Write your answer here]"
      ]
    },
    {
      "cell_type": "code",
      "source": [
        "len(all_files)"
      ],
      "metadata": {
        "colab": {
          "base_uri": "https://localhost:8080/"
        },
        "id": "Gq7-2321rIWt",
        "outputId": "7f924984-34fb-4038-ddd0-6e9540091794"
      },
      "execution_count": null,
      "outputs": [
        {
          "output_type": "execute_result",
          "data": {
            "text/plain": [
              "19997"
            ]
          },
          "metadata": {},
          "execution_count": 11
        }
      ]
    },
    {
      "cell_type": "markdown",
      "source": [
        "1. The feature set is the most frequent 1000 words (tokens) in the file.\n",
        "2. There are 19997 files in the dataset.\n",
        "3. The hyperparameter is C parameter in logistic regression, i.e inverse of regularization strength."
      ],
      "metadata": {
        "id": "8A8FtVE7rRrn"
      }
    },
    {
      "cell_type": "markdown",
      "metadata": {
        "id": "3XFlNTqFjJXL"
      },
      "source": [
        "### Q1 (b)\n",
        "\n",
        "Implement *binary_improved_data*"
      ]
    },
    {
      "cell_type": "markdown",
      "metadata": {
        "id": "LXRUw2LDjJXQ"
      },
      "source": [
        "### Q1 (c)\n",
        "\n",
        "Implement *train_and_predict_improved*"
      ]
    },
    {
      "cell_type": "code",
      "metadata": {
        "id": "G2wliJNvjJXR",
        "pycharm": {
          "name": "#%%\n"
        },
        "colab": {
          "base_uri": "https://localhost:8080/"
        },
        "outputId": "c8b9645d-486f-4f9e-a81b-63965a41ebd7"
      },
      "source": [
        "X, y, train_accuracy, test_accuracy = q1.train_and_predict_improved(all_files)\n",
        "# report results\n",
        "print(\"Train accuracy: {}\".format(train_accuracy))\n",
        "print(\"Test accuracy: {}\".format(test_accuracy))\n"
      ],
      "execution_count": null,
      "outputs": [
        {
          "output_type": "stream",
          "name": "stdout",
          "text": [
            "Train accuracy: 0.9137672358362506\n",
            "Test accuracy: 0.6675\n"
          ]
        }
      ]
    },
    {
      "cell_type": "markdown",
      "metadata": {
        "id": "SST3B968jJXX"
      },
      "source": [
        "[Write your answer here]"
      ]
    },
    {
      "cell_type": "markdown",
      "source": [
        "Before the change, we use `binary_baseline_data`, we have train accuracy = 0.94 and test accuracy = 0.69; After the change, we use `binary_improved_data`, we have train accuracy = 0.91 and test accuracy = 0.67. Both the train accuracy and test accuracy decrease.\n"
      ],
      "metadata": {
        "id": "1eLAFqiJffRF"
      }
    },
    {
      "cell_type": "markdown",
      "metadata": {
        "id": "K2EbQVhMjJXY"
      },
      "source": [
        "### Q1 (d)\n",
        "\n",
        "Implement *random_mean_ci*\n"
      ]
    },
    {
      "cell_type": "markdown",
      "metadata": {
        "id": "FrNbYeqqjJXc"
      },
      "source": [
        "### Q1 (e)\n",
        "\n",
        "Use the following code to calculate the mean accuracy and 95% confidence interval over 10 random splits"
      ]
    },
    {
      "cell_type": "code",
      "metadata": {
        "id": "oerfu1GljJXd",
        "colab": {
          "base_uri": "https://localhost:8080/"
        },
        "outputId": "aed56d62-6a11-42bc-ff4d-4eaa1ac177b4"
      },
      "source": [
        "train_mean10, train_low10, train_high10, test_mean10, test_low10, test_high10 = MLQ1.random_mean_ci(X, y, num_tests = 10)\n",
        "print(\"Train mean accuracy over 10 random splits: {}\".format(train_mean10))\n",
        "print(\"Train confidence interval over 10 random splits: [{}, {}]\".format(train_low10, train_high10))\n",
        "print(\"Test mean accuracy over 10 random splits: {}\".format(test_mean10))\n",
        "print(\"Test confidence interval over 10 random splits: [{}, {}]\".format(test_low10, test_high10))"
      ],
      "execution_count": null,
      "outputs": [
        {
          "output_type": "stream",
          "name": "stdout",
          "text": [
            "Train mean accuracy over 10 random splits: 0.9124812459812818\n",
            "Train confidence interval over 10 random splits: [0.9117339905321975, 0.913228501430366]\n",
            "Test mean accuracy over 10 random splits: 0.6647000000000001\n",
            "Test confidence interval over 10 random splits: [0.6621578752788941, 0.667242124721106]\n"
          ]
        }
      ]
    },
    {
      "cell_type": "markdown",
      "metadata": {
        "id": "qWqqzPkGjJXh"
      },
      "source": [
        "[ Write your answer here ]"
      ]
    },
    {
      "cell_type": "markdown",
      "source": [
        "Train mean accuracy over 10 random splits is 0.913 and the train accuracy for single trial is 0.914; Test mean accuracy over 10 random splits: 0.665 and the test accuracy for single trial is 0.668. Both the train accuracy and test accuracy do not change too much.\n",
        "\n",
        "Yes. Train confidence interval over 10 random splits: `[0.9117, 0.9132]`, which means that over repeated sampling, we have 95% confident that the true train accuracy is between  `[0.9117, 0.9132]`; Similarly, test confidence interval over 10 random splits: `[0.662, 0.667]`, which means that over repeated sampling, we have 95% confident that the true test accuracy is between `[0.662, 0.667]`\n",
        "\n",
        "Based on the CI for train and test accuracy, both the train and test accuracy for single trial falls in the CI and is reasonable.\n"
      ],
      "metadata": {
        "id": "xBhqNcBwX32p"
      }
    },
    {
      "cell_type": "markdown",
      "metadata": {
        "id": "z86lxUvmjJXi"
      },
      "source": [
        "### Q1 (f)\n",
        "\n",
        "Implement *random_cm*\n"
      ]
    },
    {
      "cell_type": "markdown",
      "metadata": {
        "id": "e19w779ejJXs"
      },
      "source": [
        "### Q1 (g)\n",
        "\n",
        "Use the following code to produce a confusion matrix for 10 random splits"
      ]
    },
    {
      "cell_type": "code",
      "metadata": {
        "id": "xXGSnr-xjJXt",
        "colab": {
          "base_uri": "https://localhost:8080/",
          "height": 612
        },
        "outputId": "38f86bd1-4ccd-4a70-dcfc-dc43e4f5b636"
      },
      "source": [
        "cm10 = MLQ1.random_cm(X, y, num_tests = 10)\n",
        "plot_confusion_matrix(cm10)"
      ],
      "execution_count": null,
      "outputs": [
        {
          "output_type": "display_data",
          "data": {
            "text/plain": [
              "<Figure size 720x720 with 1 Axes>"
            ],
            "image/png": "[encoded data removed]"
          },
          "metadata": {
            "needs_background": "light"
          }
        }
      ]
    },
    {
      "cell_type": "markdown",
      "metadata": {
        "id": "cXgq9z3KjJXw"
      },
      "source": [
        "[ Write your answer here ]"
      ]
    },
    {
      "cell_type": "markdown",
      "source": [
        "Yes. For example, top 4 are more easily to confused with top 20, since the corresponding block between 4 and 20 is darker than the other (except 4 itself)"
      ],
      "metadata": {
        "id": "0FQbTgWNiOsM"
      }
    },
    {
      "cell_type": "markdown",
      "metadata": {
        "id": "XTFCjNAjjJXx"
      },
      "source": [
        "## Q2"
      ]
    },
    {
      "cell_type": "code",
      "execution_count": null,
      "outputs": [],
      "source": [
        "class MLQ2():\n",
        "    def feature_num(self, X, y):\n",
        "        # result_list is a list of tuples (num_features, train_accuracy, test_accuracy)\n",
        "        # where numFeatures is the number of words used as features\n",
        "        result_list = []\n",
        "\n",
        "        X_train, X_test, y_train, y_test = train_test_split(X, y, test_size=0.3, random_state=42)\n",
        "\n",
        "        for p in [0.1, 0.2, 0.4, 0.6, 0.8, 1.0]:\n",
        "            subset_size = int(p*X.shape[1])\n",
        "            X_train_subset = X_train.iloc[:, 0:subset_size]\n",
        "            X_test_subset = X_test.iloc[:, 0:subset_size]\n",
        "            # Write your code here to calculate train_accuracy and test_accuracy for the current subset of features\n",
        "            # ......\n",
        "                    \n",
        "            # train a logistic regression classifier\n",
        "            clf = LogisticRegression(C=1.0).fit(X_train_subset, y_train)\n",
        "\n",
        "            # predict on train and test set\n",
        "            y_train_predict = clf.predict(X_train_subset)\n",
        "            y_test_predict = clf.predict(X_test_subset)\n",
        "            \n",
        "            train_accuracy = accuracy_score(y_train, y_train_predict)\n",
        "            test_accuracy = accuracy_score(y_test, y_test_predict)\n",
        "            # add to result_list\n",
        "            result_list.append((p, train_accuracy, test_accuracy))\n",
        "\n",
        "        # Make a dataframe of the results\n",
        "        result_df = pd.DataFrame(result_list, columns=[\"num_features\", \"train_accuracy\", \"test_accuracy\"])\n",
        "\n",
        "        # validate return type\n",
        "        assert isinstance(result_df, pd.DataFrame), \"return type\"\n",
        "\n",
        "        return result_df"
      ],
      "metadata": {
        "pycharm": {
          "name": "#%%\n"
        },
        "id": "6OAi_6hSofkF"
      }
    },
    {
      "cell_type": "markdown",
      "metadata": {
        "id": "dhXfPuIpjJXy"
      },
      "source": [
        "### Q2 (a)\n",
        "\n",
        "Implement *feature_num*"
      ]
    },
    {
      "cell_type": "markdown",
      "metadata": {
        "id": "X7hNvwoljJX6"
      },
      "source": [
        "### Q2 (b)\n",
        "\n",
        "Use the following code to plot the train and test accuracy for the different feature sets sizes"
      ]
    },
    {
      "cell_type": "code",
      "metadata": {
        "id": "Ehilq_hyjJX7",
        "colab": {
          "base_uri": "https://localhost:8080/",
          "height": 297
        },
        "outputId": "b1caa988-2123-4556-c20d-c4d3545f5d96"
      },
      "source": [
        "q2 = MLQ2()\n",
        "feature_num_df = q2.feature_num(X, y)\n",
        "feature_num_df.plot(x=\"num_features\", y=[\"train_accuracy\", \"test_accuracy\"])"
      ],
      "execution_count": null,
      "outputs": [
        {
          "output_type": "execute_result",
          "data": {
            "text/plain": [
              "<AxesSubplot:xlabel='num_features'>"
            ]
          },
          "metadata": {},
          "execution_count": 17
        },
        {
          "output_type": "display_data",
          "data": {
            "text/plain": [
              "<Figure size 432x288 with 1 Axes>"
            ],
            "image/png": "[encoded data removed]"
          },
          "metadata": {
            "needs_background": "light"
          }
        }
      ]
    },
    {
      "cell_type": "markdown",
      "metadata": {
        "id": "XFk_ess_jJYC"
      },
      "source": [
        "[ Write your answer here ]"
      ]
    },
    {
      "cell_type": "markdown",
      "source": [
        "As the number of features increase, the train and test accuracy increase, i.e. as the number of words used as features increase, the train and test accuracy increase."
      ],
      "metadata": {
        "id": "QFDSONF-Qegv"
      }
    },
    {
      "cell_type": "markdown",
      "metadata": {
        "id": "a0ZftHo6jJYD"
      },
      "source": [
        "## Q3"
      ]
    },
    {
      "cell_type": "code",
      "execution_count": null,
      "outputs": [],
      "source": [
        "class MLQ3():\n",
        "    def hyperparameter(self, X, y):\n",
        "        # result_list is a list of tuples (num_features, train_accuracy, test_accuracy)\n",
        "        # where numFeatures is the number of words used as features\n",
        "        result_list = []\n",
        "\n",
        "        X_train, X_test, y_train, y_test = train_test_split(X, y, test_size=0.3, random_state=42)\n",
        "\n",
        "        for param in [0.001, 0.01, 0.1, 1, 10, 100, 1000]:\n",
        "            # Write your code here to calculate train_accuracy and test_accuracy for the current parameter value\n",
        "            # ......\n",
        "\n",
        "            # train a logistic regression classifier\n",
        "            clf = LogisticRegression(C=param).fit(X_train, y_train)\n",
        "            y_train_predict = clf.predict(X_train)\n",
        "            y_test_predict = clf.predict(X_test)\n",
        "\n",
        "\n",
        "            # calculate train and test accuracy\n",
        "            train_accuracy = accuracy_score(y_train, y_train_predict)\n",
        "            test_accuracy = accuracy_score(y_test, y_test_predict)\n",
        "\n",
        "            # add to result_list\n",
        "            result_list.append((param, train_accuracy, test_accuracy))\n",
        "\n",
        "        # Make a dataframe of the results\n",
        "        result_df = pd.DataFrame(result_list, columns=[\"param\", \"train_accuracy\", \"test_accuracy\"])\n",
        "\n",
        "        # validate return type\n",
        "        assert isinstance(result_df, pd.DataFrame), \"return type\"\n",
        "\n",
        "        return result_df"
      ],
      "metadata": {
        "pycharm": {
          "name": "#%%\n"
        },
        "id": "8dl6rebgofkG"
      }
    },
    {
      "cell_type": "markdown",
      "metadata": {
        "id": "X0e1QSDsjJYE"
      },
      "source": [
        "### Q3 (a)\n",
        "\n",
        "Implement *hyperparameter*"
      ]
    },
    {
      "cell_type": "markdown",
      "metadata": {
        "id": "Id6-n2ZBjJYM"
      },
      "source": [
        "### Q3 (b)\n",
        "\n",
        "Use the following code to plot the train and test accuracy for the different the parameters"
      ]
    },
    {
      "cell_type": "code",
      "metadata": {
        "id": "phBkJ5mvjJYN",
        "colab": {
          "base_uri": "https://localhost:8080/",
          "height": 300
        },
        "outputId": "b69d8d87-ebb7-404b-97f6-e9e694f5fb56"
      },
      "source": [
        "q3 = MLQ3()\n",
        "param_df = q3.hyperparameter(X, y)\n",
        "param_df.plot(x=\"param\", y=[\"train_accuracy\", \"test_accuracy\"], logx=True)"
      ],
      "execution_count": null,
      "outputs": [
        {
          "output_type": "execute_result",
          "data": {
            "text/plain": [
              "<AxesSubplot:xlabel='param'>"
            ]
          },
          "metadata": {},
          "execution_count": 19
        },
        {
          "output_type": "display_data",
          "data": {
            "text/plain": [
              "<Figure size 432x288 with 1 Axes>"
            ],
            "image/png": "[encoded data removed]"
          },
          "metadata": {
            "needs_background": "light"
          }
        }
      ]
    },
    {
      "cell_type": "markdown",
      "metadata": {
        "id": "ngW4KMVLjJYP"
      },
      "source": [
        "[ Write your answer here ]"
      ]
    },
    {
      "cell_type": "markdown",
      "source": [
        "As the hyperparameter C increase, the train accuracy keep increase; the test accuracy first increase, after `C = 0.1`, test accuracy starts to decrease and the model is overfitting."
      ],
      "metadata": {
        "id": "uiqX_mFCRBZU"
      }
    },
    {
      "cell_type": "markdown",
      "metadata": {
        "id": "NPsJTYu_jJYR"
      },
      "source": [
        "## Q4"
      ]
    },
    {
      "cell_type": "code",
      "execution_count": null,
      "outputs": [],
      "source": [
        "class MLQ4():\n",
        "    def tf_improved_data(self, file_list, num_words = 1000):\n",
        "        # Put your code here\n",
        "        # Make sure you update the variable features and targets below\n",
        "\n",
        "        # X = None\n",
        "        # y = None\n",
        "\n",
        "         # Calculate word count in corpus\n",
        "        tokenizer = RegexpTokenizer(r'\\w+')\n",
        "        # tokenizer = RegexTokenizer() | StemFilter()\n",
        "        news_cnt = Counter()\n",
        "        for file_path in file_list:\n",
        "          with open(file_path, 'r', encoding='utf-8', errors='ignore') as file:\n",
        "            file_data = file.read()\n",
        "            file_data = clean_file_text(file_data)\n",
        "            file_words = tokenizer.tokenize(file_data)\n",
        "            stop_words = set(stopwords.words(\"english\"))\n",
        "            file_words = [w.lower() for w in file_words]\n",
        "            filtered_file_words = [w for w in file_words if not w in stop_words]\n",
        "            news_cnt.update(filtered_file_words)\n",
        "\n",
        "        # Select the most common numWords\n",
        "        # word_list = [word for (word, freq) in news_cnt.most_common(num_words)]\n",
        "        top_word = news_cnt.most_common(num_words)\n",
        "\n",
        "        # Create a binary encoding of dataset based on the selected features (X)\n",
        "        tokenizer = RegexpTokenizer(r'\\w+')\n",
        "        df_rows = []\n",
        "        for file_path in file_list:\n",
        "            with open(file_path, 'r', encoding='utf-8', errors='ignore') as file:\n",
        "                file_data = file.read()\n",
        "                file_data = clean_file_text(file_data)\n",
        "                file_words = tokenizer.tokenize(file_data)\n",
        "                df_rows.append([wordCount if word in file_words else 0 for (word,wordCount) in top_word])\n",
        "                \n",
        "        # validate return types\n",
        "        assert isinstance(X, pd.DataFrame) and isinstance(y, list), \"return types\"\n",
        "\n",
        "        return X, y\n"
      ],
      "metadata": {
        "pycharm": {
          "name": "#%%\n"
        },
        "id": "sTI7Tc_GofkG"
      }
    },
    {
      "cell_type": "markdown",
      "metadata": {
        "id": "aK7nTn82jJYS"
      },
      "source": [
        "### Q4 (a)\n",
        "\n",
        "Implement *tf_improved_data*"
      ]
    },
    {
      "cell_type": "markdown",
      "metadata": {
        "id": "C1Ws8ZgrjJYV"
      },
      "source": [
        "### Q4 (b)\n",
        "\n",
        "Use the following code to calculate the mean accuracy and 95% confidence interval over multiple random splits"
      ]
    },
    {
      "cell_type": "code",
      "metadata": {
        "id": "A9c3b_RwjJYW",
        "colab": {
          "base_uri": "https://localhost:8080/"
        },
        "outputId": "1d6f27b0-11f8-41c6-e1a0-dfd855de9019"
      },
      "source": [
        "q4 = MLQ4()\n",
        "X_tf, y_tf = q4.tf_improved_data(all_files)\n",
        "train_mean10, train_low10, train_high10, test_mean10, test_low10, test_high10 = MLQ1.random_mean_ci(X_tf, y_tf, num_tests = 10)\n",
        "print(\"Train mean accuracy over 10 random splits: {}\".format(train_mean10))\n",
        "print(\"Train confidence interval over 10 random splits: [{}, {}]\".format(train_low10, train_high10))\n",
        "print(\"Test mean accuracy over 10 random splits: {}\".format(test_mean10))\n",
        "print(\"Test confidence interval over 10 random splits: [{}, {}]\".format(test_low10, test_high10))"
      ],
      "execution_count": null,
      "outputs": [
        {
          "output_type": "stream",
          "name": "stdout",
          "text": [
            "Train mean accuracy over 10 random splits: 0.9122954918911196\n",
            "Train confidence interval over 10 random splits: [0.9109995940007983, 0.9135913897814408]\n",
            "Test mean accuracy over 10 random splits: 0.6633333333333333\n",
            "Test confidence interval over 10 random splits: [0.6601076103819865, 0.6665590562846802]\n"
          ]
        }
      ]
    },
    {
      "cell_type": "markdown",
      "metadata": {
        "id": "KKgIMSPRjJYc"
      },
      "source": [
        "[ Write your answer here ]"
      ]
    },
    {
      "cell_type": "markdown",
      "source": [
        "For binary encoding, train mean accuracy is 0.913, for TF encoding, train mean accuracy is 0.912; For binary encoding, test mean accuracy is 0.6647, for TF encoding, test mean accuracy is 0.6633. The test mean accuracy for binary encoding is better.\n",
        "\n",
        "For binary encoding, the CI for train accuracy is `[0.912, 0.914]`, for TF encoding, the CI for train accuracy is `[0.911, 0.914]`; For binary encoding, the CI for test accuracy is `[0.662, 0.667]`, for TF encoding, the CI for test accuracy is `[0.660, 0.667]`. The CI for test accuracy for binary encoding is better.\n",
        "\n",
        "Because in this case, document frequency is not considered，rare terms are more informative than frequent terms and terms with very high TF may cause the model overfits the data."
      ],
      "metadata": {
        "id": "L_aK_us3aOdD"
      }
    },
    {
      "cell_type": "markdown",
      "metadata": {
        "id": "zAfgSoqjjJYd"
      },
      "source": [
        "## Q5"
      ]
    },
    {
      "cell_type": "code",
      "execution_count": null,
      "outputs": [],
      "source": [
        "class MLQ5():\n",
        "    def nb_random_mean_ci(self, X, y, num_tests):\n",
        "        # train_results is a list of train accuracy results for the differrent random splits of the dataset\n",
        "        train_results = []\n",
        "\n",
        "        # test_results is a list of test accuracy results for the differrent random splits of the dataset\n",
        "        test_results = []\n",
        "\n",
        "        # Write your code here\n",
        "        random_state = list(np.random.randint(1,1000, num_tests))\n",
        "        for rs in random_state:\n",
        "          X_train, X_test, y_train, y_test = train_test_split(X, y, test_size=0.3, random_state=rs)\n",
        "          clf = MultinomialNB().fit(X_train, y_train)\n",
        "\n",
        "          y_train_predict = clf.predict(X_train)\n",
        "          y_test_predict = clf.predict(X_test)\n",
        "\n",
        "          train_accuracy = accuracy_score(y_train, y_train_predict)\n",
        "          test_accuracy = accuracy_score(y_test, y_test_predict)\n",
        "\n",
        "          train_results.append(train_accuracy)\n",
        "          test_results.append(test_accuracy)\n",
        "\n",
        "        # calculate the train mean and the 95% confidence interval for the list of results\n",
        "        train_mean = np.mean(train_results)\n",
        "        train_ci_low, train_ci_high = stats.t.interval(0.95, len(train_results)-1, loc=train_mean, scale=stats.sem(train_results))\n",
        "\n",
        "        # calculate the test mean and the 95% confidence interval for the list of results\n",
        "        test_mean = np.mean(test_results)\n",
        "        test_ci_low, test_ci_high = stats.t.interval(0.95, len(test_results)-1, loc=test_mean, scale=stats.sem(test_results))\n",
        "\n",
        "        # validate return types\n",
        "        assert isinstance(train_mean, float) and isinstance(train_ci_low, float) and isinstance(train_ci_high, float), \"return types\"\n",
        "        assert isinstance(test_mean, float) and isinstance(test_ci_low, float) and isinstance(test_ci_high, float), \"return types\"\n",
        "\n",
        "        return train_mean, train_ci_low, train_ci_high, test_mean, test_ci_low, test_ci_high\n"
      ],
      "metadata": {
        "pycharm": {
          "name": "#%%\n"
        },
        "id": "0-z71UjpofkH"
      }
    },
    {
      "cell_type": "markdown",
      "metadata": {
        "id": "2tV_h9kGjJYg"
      },
      "source": [
        "### Q5 (a)\n",
        "\n",
        "Implement *nb_random_mean_ci*\n"
      ]
    },
    {
      "cell_type": "markdown",
      "metadata": {
        "id": "E9-OzAIUjJYj"
      },
      "source": [
        "### Q5 (b)\n",
        "\n",
        "Use the following code to calculate the mean accuracy and 95% confidence interval over multiple random splits"
      ]
    },
    {
      "cell_type": "code",
      "metadata": {
        "id": "l9Me9H6HjJYk",
        "colab": {
          "base_uri": "https://localhost:8080/"
        },
        "outputId": "078e573d-c19b-46ec-93d7-836120ab414f"
      },
      "source": [
        "q5 = MLQ5()\n",
        "train_mean10, train_low10, train_high10, test_mean10, test_low10, test_high10 = q5.nb_random_mean_ci(X, y, num_tests = 10)\n",
        "print(\"Train mean accuracy over 10 random splits: {}\".format(train_mean10))\n",
        "print(\"Train confidence interval over 10 random splits: [{}, {}]\".format(train_low10, train_high10))\n",
        "print(\"Test mean accuracy over 10 random splits: {}\".format(test_mean10))\n",
        "print(\"Test confidence interval over 10 random splits: [{}, {}]\".format(test_low10, test_high10))"
      ],
      "execution_count": null,
      "outputs": [
        {
          "output_type": "stream",
          "name": "stdout",
          "text": [
            "Train mean accuracy over 10 random splits: 0.733835821961849\n",
            "Train confidence interval over 10 random splits: [0.7324490384867791, 0.735222605436919]\n",
            "Test mean accuracy over 10 random splits: 0.6681666666666666\n",
            "Test confidence interval over 10 random splits: [0.6638579978635454, 0.6724753354697878]\n"
          ]
        }
      ]
    },
    {
      "cell_type": "markdown",
      "metadata": {
        "id": "P99mWvAbjJYp"
      },
      "source": [
        "[ Write your answer here ]"
      ]
    },
    {
      "cell_type": "markdown",
      "source": [
        "For Naive Bayes, train mean accuracy is 0.734, for Logistic regression, train mean accuracy is 0.913; For Naive Bayes, test mean accuracy is 0.668, for Logistic regression, test mean accuracy is 0.665. The test mean accuracy for Naive Bayes Classifier is better.\n",
        "\n",
        "For Naive Bayes, the CI for train accuracy is `[0.732, 0.735]`, for Logistic regression, CI for train accuracy is `[0.912, 0.914]`; For Naive Bayes, the CI for test accuracy is `[0.664, 0.672]`, for Logistic regression, the CI for test accuracy is `[0.662, 0.667]`. The CI for test accuracy for Naive Bayes is better.\n",
        "\n",
        "Naive Bayes has a higher bias and low variance, logistic regression has low bias and higher variance. Naive Bayes figures out how the data was generated given the results.\n"
      ],
      "metadata": {
        "id": "dytkKUHnk1SV"
      }
    },
    {
      "cell_type": "markdown",
      "metadata": {
        "id": "4CPzZDj-jJYq"
      },
      "source": [
        "## Q6"
      ]
    },
    {
      "cell_type": "code",
      "execution_count": null,
      "outputs": [],
      "source": [
        "class MLQ6():\n",
        "    def binary_med_data(self, file_list, num_words = 1000):\n",
        "        # Put your code here\n",
        "        # Make sure you update the variable features and targets below\n",
        "\n",
        "        # X = None\n",
        "        # y = None\n",
        "\n",
        "        #Please remember to put index for your dataframe as the file name\n",
        "        #For example: pd.DataFrame(data, index=[str(f) for f in file_list],columns=[])\n",
        "        # Calculate word count in corpus\n",
        "        tokenizer = RegexpTokenizer(r'\\w+')\n",
        "        # tokenizer = RegexTokenizer() | StemFilter()\n",
        "        news_cnt = Counter()\n",
        "        for file_path in file_list:\n",
        "          with open(file_path, 'r', encoding='utf-8', errors='ignore') as file:\n",
        "            file_data = file.read()\n",
        "            file_data = clean_file_text(file_data)\n",
        "            file_words = tokenizer.tokenize(file_data)\n",
        "            stop_words = set(stopwords.words(\"english\"))\n",
        "            file_words = [w.lower() for w in file_words]\n",
        "            filtered_file_words = [w for w in file_words if not w in stop_words]\n",
        "            news_cnt.update(filtered_file_words)\n",
        "\n",
        "        # Select the most common numWords\n",
        "        word_list = [word for (word, freq) in news_cnt.most_common(num_words)]\n",
        "\n",
        "        # Create a binary encoding of dataset based on the selected features (X)\n",
        "        tokenizer = RegexpTokenizer(r'\\w+')\n",
        "        df_rows = []\n",
        "        for file_path in file_list:\n",
        "            with open(file_path, 'r', encoding='utf-8', errors='ignore') as file:\n",
        "                file_data = file.read()\n",
        "                file_data = clean_file_text(file_data)\n",
        "                file_words = tokenizer.tokenize(file_data)\n",
        "                df_rows.append([1 if word in file_words else 0 for word in word_list])\n",
        "        X = pd.DataFrame(df_rows, index=[str(f) for f in file_list], columns = word_list)\n",
        "\n",
        "        # Create a dataframe of targets (y)\n",
        "        y = [1 if get_target(get_topic_name(file_path)) == get_target('sci.med') else 0 for file_path in file_list]\n",
        "\n",
        "        # validate return types\n",
        "        assert isinstance(X, pd.DataFrame) and isinstance(y, list), \"return types\"\n",
        "\n",
        "        return X, y"
      ],
      "metadata": {
        "pycharm": {
          "name": "#%%\n"
        },
        "id": "sdoCdzQqofkI"
      }
    },
    {
      "cell_type": "markdown",
      "metadata": {
        "id": "tWL6L_OUjJYu"
      },
      "source": [
        "### Q6 (a)\n",
        "\n",
        "Implement *binary_med_data*\n"
      ]
    },
    {
      "cell_type": "markdown",
      "metadata": {
        "id": "7Z3uKy8WjJYx"
      },
      "source": [
        "### Q6 (b)\n",
        "\n",
        "Use the following code to calculate the mean accuracy and 95% confidence interval over multiple random splits"
      ]
    },
    {
      "cell_type": "code",
      "metadata": {
        "id": "D3Dfy0uIjJYy",
        "colab": {
          "base_uri": "https://localhost:8080/"
        },
        "outputId": "1bf886ee-9591-4843-ebb9-3099ea59b2ac"
      },
      "source": [
        "q6 = MLQ6()\n",
        "X, y = q6.binary_med_data(all_files)\n",
        "train_mean10, train_low10, train_high10, test_mean10, test_low10, test_high10 = MLQ1.random_mean_ci(X, y, num_tests = 10)\n",
        "print(\"Train mean accuracy over 10 random splits: {}\".format(train_mean10))\n",
        "print(\"Train confidence interval over 10 random splits: [{}, {}]\".format(train_low10, train_high10))\n",
        "print(\"Test mean accuracy over 10 random splits: {}\".format(test_mean10))\n",
        "print(\"Test confidence interval over 10 random splits: [{}, {}]\".format(test_low10, test_high10))"
      ],
      "execution_count": null,
      "outputs": [
        {
          "output_type": "stream",
          "name": "stdout",
          "text": [
            "Train mean accuracy over 10 random splits: 0.9830535114667429\n",
            "Train confidence interval over 10 random splits: [0.9823837577824295, 0.9837232651510563]\n",
            "Test mean accuracy over 10 random splits: 0.9696666666666667\n",
            "Test confidence interval over 10 random splits: [0.9676511529823016, 0.9716821803510317]\n"
          ]
        }
      ]
    },
    {
      "cell_type": "markdown",
      "metadata": {
        "id": "EueLolt1jJY0"
      },
      "source": [
        "[ Write your answer here ]"
      ]
    },
    {
      "cell_type": "markdown",
      "source": [
        "Train mean accuracy over 10 random splits is 0.983, test mean accuracy over 10 random splits is 0.970.\n",
        "\n",
        "Train confidence interval over 10 random splits: `[0.982, 0.984]`, which means that over repeated sampling, we have 95% confident that the true train accuracy is between `[0.982, 0.984]`; Similarly, test confidence interval over 10 random splits: `[0.968, 0.972]`, which means that over repeated sampling, we have 95% confident that the true test accuracy is between `[0.968, 0.972]`.\n",
        "\n",
        "In Q1, train mean accuracy over 10 random splits is 0.913, test mean accuracy over 10 random splits is 0.665; Train confidence interval over 10 random splits: `[0.912, 0.914]`, test confidence interval over 10 random splits: `[0.662, 0.667]`. The performance for binary logistic regression is better than multiclass logistic regression.\n",
        "\n"
      ],
      "metadata": {
        "id": "6IYNqKJoQ1l3"
      }
    },
    {
      "cell_type": "markdown",
      "source": [
        "# Q7"
      ],
      "metadata": {
        "id": "QXGeOS9VpJYS"
      }
    },
    {
      "cell_type": "markdown",
      "source": [
        "## Q7(a)\n",
        "use the following code cell to implement your feature encoding"
      ],
      "metadata": {
        "id": "9FW1IokMpLb9"
      }
    },
    {
      "cell_type": "code",
      "source": [
        "def data_q7(file_list, num_words = 5000):\n",
        "  # X = None\n",
        "  # y = None\n",
        "\n",
        "    tokenizer = RegexpTokenizer(r'\\w+')\n",
        "    \n",
        "    news_cnt = Counter()\n",
        "    for file_path in file_list:\n",
        "      with open(file_path, 'r', encoding='utf-8', errors='ignore') as file:\n",
        "        file_data = file.read()\n",
        "        file_data = clean_file_text(file_data)\n",
        "        file_words = tokenizer.tokenize(file_data)\n",
        "        stop_words = set(stopwords.words(\"english\"))\n",
        "        file_words = [w.lower() for w in file_words]\n",
        "        filtered_file_words = [w for w in file_words if not w in stop_words]\n",
        "        news_cnt.update(filtered_file_words)\n",
        "        # news_cnt.update(file_words)\n",
        "\n",
        "    word_list = [word for (word, freq) in news_cnt.most_common(num_words)]\n",
        "\n",
        "    tokenizer = RegexpTokenizer(r'\\w+')\n",
        "    df_rows = []\n",
        "    for file_path in file_list:\n",
        "        with open(file_path, 'r', encoding='utf-8', errors='ignore') as file:\n",
        "            file_data = file.read()\n",
        "            file_data = clean_file_text(file_data)\n",
        "            file_words = tokenizer.tokenize(file_data)\n",
        "            df_rows.append([1 if word in file_words else 0 for word in word_list])\n",
        "    X = pd.DataFrame(df_rows, index=[str(f) for f in file_list], columns = word_list)\n",
        "\n",
        "    y = [get_target(get_topic_name(file_path)) for file_path in file_list]\n",
        "\n",
        "\n",
        "  #Please remember to put index for your dataframe as the file name\n",
        "  #For example: pd.DataFrame(data, index=[str(f) for f in file_list],columns=[])\n",
        "  \n",
        "  # validate return types\n",
        "    assert isinstance(X, pd.DataFrame) and isinstance(y, list), \"return types\"\n",
        "  \n",
        "    return X, y"
      ],
      "metadata": {
        "id": "mIT_KYwmpKbW"
      },
      "execution_count": null,
      "outputs": []
    },
    {
      "cell_type": "markdown",
      "source": [
        "## Q7(b)\n",
        "Use the following code cell to implement your model"
      ],
      "metadata": {
        "id": "igUVLrzppRGT"
      }
    },
    {
      "cell_type": "code",
      "source": [
        "def build_model_q7():\n",
        "  #write your code here, define your model\n",
        "  # MODELQ7=None\n",
        "  MODELQ7 = MultinomialNB()\n",
        "  return MODELQ7"
      ],
      "metadata": {
        "id": "VdSJlJgrpXPh"
      },
      "execution_count": null,
      "outputs": []
    },
    {
      "cell_type": "markdown",
      "source": [
        "Code for evaluating p at k"
      ],
      "metadata": {
        "id": "bUAvw4aUpTJm"
      }
    },
    {
      "cell_type": "code",
      "source": [
        "def calculate_average_precision_at_k(MODELQ7, all_files, training_files, testing_files,k=None):\n",
        "  \n",
        "  training_files = [str(f) for f in open(training_files,mode='r').read().splitlines()]\n",
        "  testing_files = [str(f) for f in open(testing_files,mode='r').read().splitlines()]\n",
        "  if k is None:\n",
        "    k=len(testing_files)\n",
        "\n",
        "  X, y = data_q7(all_files) \n",
        "  X['gt'] = y\n",
        "  training = X.loc[training_files]\n",
        "  X_train = training.loc[:,training.columns!='gt']\n",
        "  y_train = training['gt'].values\n",
        "\n",
        "  testing = X.loc[testing_files]\n",
        "  X_test = testing.loc[:,testing.columns!='gt']\n",
        "  y_test = testing['gt'].values\n",
        "\n",
        "  MODELQ7.fit(X_train,y_train)\n",
        "  y_pred = MODELQ7.predict(X_test)\n",
        "  y_pred_prob = MODELQ7.predict_proba(X_test)\n",
        "  confidences = np.max(y_pred_prob,axis=1)\n",
        "  \n",
        "  p_at_k = []\n",
        "  rel_at_k = []\n",
        "  confidence_order = np.argsort(confidences)\n",
        "  for i in range(1,k+1):\n",
        "    top_confidence = confidence_order[-i:]\n",
        "    pred_top_i = y_pred[top_confidence]\n",
        "    gt_top_i = np.array(y_test)[top_confidence]\n",
        "    p_at_i = np.sum(pred_top_i == gt_top_i)/i\n",
        "    rel_at_i = (pred_top_i[0] == gt_top_i[0])\n",
        "    p_at_k.append(p_at_i)\n",
        "    rel_at_k.append(rel_at_i)\n",
        "  print('average precision at {} is {}'.format(k,np.dot(p_at_k,rel_at_k)/k))\n",
        "  return np.dot(p_at_k,rel_at_k)/k"
      ],
      "metadata": {
        "id": "vliVevlZpaqe"
      },
      "execution_count": null,
      "outputs": []
    },
    {
      "cell_type": "code",
      "source": [
        "# Example usage:\n",
        "######This line of code must be able to run on Google Colab in under 15 minutes.#####\n",
        "######Code that runs longer than 15 minutes on the autograder will receive 0 marks for Q7#####\n",
        "#num_words = 5000\n",
        "m = calculate_average_precision_at_k(build_model_q7(), all_files, 'training_files_Q7.txt', 'testing_files_Q7.txt') #9'30"
      ],
      "metadata": {
        "colab": {
          "base_uri": "https://localhost:8080/"
        },
        "id": "M8bUFsHX3qbN",
        "outputId": "86a91633-0fab-4bf8-ac42-e5ddeefe3f4d"
      },
      "execution_count": null,
      "outputs": [
        {
          "output_type": "stream",
          "name": "stdout",
          "text": [
            "average precision at 4000 is 0.6308599673155211\n"
          ]
        }
      ]
    },
    {
      "cell_type": "code",
      "source": [
        "# Example usage:\n",
        "######This line of code must be able to run on Google Colab in under 15 minutes.#####\n",
        "######Code that runs longer than 15 minutes on the autograder will receive 0 marks for Q7#####\n",
        "#num_words = 1000\n",
        "# m = calculate_average_precision_at_k(build_model_q7(), all_files, 'training_files_Q7.txt', 'testing_files_Q7.txt') #2'"
      ],
      "metadata": {
        "colab": {
          "base_uri": "https://localhost:8080/"
        },
        "id": "Iw7xpzJ2GZHb",
        "outputId": "3da2d2a6-969c-4ac2-dce3-5d719badbd0b"
      },
      "execution_count": null,
      "outputs": [
        {
          "output_type": "stream",
          "name": "stdout",
          "text": [
            "average precision at 4000 is 0.412694142077338\n"
          ]
        }
      ]
    },
    {
      "cell_type": "code",
      "source": [
        "# Example usage:\n",
        "######This line of code must be able to run on Google Colab in under 15 minutes.#####\n",
        "######Code that runs longer than 15 minutes on the autograder will receive 0 marks for Q7#####\n",
        "#num_words = 7500\n",
        "# m = calculate_average_precision_at_k(build_model_q7(), all_files, 'training_files_Q7.txt', 'testing_files_Q7.txt') #13'51"
      ],
      "metadata": {
        "colab": {
          "base_uri": "https://localhost:8080/"
        },
        "id": "FO6-IOPUHAxQ",
        "outputId": "91040540-f2c7-4c43-f0d3-0c80ac93657f"
      },
      "execution_count": null,
      "outputs": [
        {
          "output_type": "stream",
          "name": "stdout",
          "text": [
            "average precision at 4000 is 0.6521382599700901\n"
          ]
        }
      ]
    },
    {
      "cell_type": "markdown",
      "source": [
        "# Q7(c)"
      ],
      "metadata": {
        "id": "JLIjqlH6pgKk"
      }
    },
    {
      "cell_type": "markdown",
      "source": [
        "Please write your answers here"
      ],
      "metadata": {
        "id": "cvHHuoXkpjKM"
      }
    },
    {
      "cell_type": "markdown",
      "source": [
        "1. The feature set is 5000 most frequent words in the file; The feature encoding method is binary encoding \n",
        "2. The classifier is multinomial naive bayes.\n",
        "3. Based on the training above, when use 1000 most frequent words, we have `AP = 0.413`; When use 5000 most frequent words, we have `AP = 0.631`. Using 5000 most frequent words will have better performance and ensure the run time is within 15 min.\n",
        "\n",
        "Based on Q4, we know that binary encoding perform better than TF : when using TF encoding, document frequency is not considered，rare terms are more informative than frequent terms and terms with very high TF may cause the model overfits the data.\n",
        "\n",
        "Based on Q5, we know that multinominal NB perform better than logistic regression: Naive Bayes figures out how the data was generated given the results. "
      ],
      "metadata": {
        "id": "0oDeKiFCdlya"
      }
    },
    {
      "cell_type": "code",
      "source": [],
      "metadata": {
        "id": "208fWEM9e6PG"
      },
      "execution_count": null,
      "outputs": []
    }
  ]
}